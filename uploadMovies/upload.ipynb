{
 "cells": [
  {
   "cell_type": "code",
   "execution_count": 1,
   "metadata": {},
   "outputs": [],
   "source": [
    "# Importar librerias\n",
    "import pandas as pd\n",
    "import numpy as np\n",
    "\n",
    "from tqdm import tqdm, tqdm_pandas\n",
    "tqdm.pandas()"
   ]
  },
  {
   "cell_type": "code",
   "execution_count": 2,
   "metadata": {},
   "outputs": [],
   "source": [
    "import csv\n",
    "import firebase_admin\n",
    "from firebase_admin import credentials\n",
    "from firebase_admin import firestore\n",
    "\n",
    "from tqdm import tqdm"
   ]
  },
  {
   "cell_type": "code",
   "execution_count": 3,
   "metadata": {},
   "outputs": [],
   "source": [
    "base_url = \"D:\\\\Repositorios\\\\ACTUALMoodMatchNew\\\\mood_match\\\\uploadMovies\\\\\"\n",
    "\n",
    "# Inicializa Firebase con la credencial de servicio\n",
    "cred = credentials.Certificate(base_url + \"moodmatch-57ae2-firebase-adminsdk-tsqlj-d55ccb4b52.json\")\n",
    "firebase_admin.initialize_app(cred)\n",
    "\n",
    "# Inicializa Firestore\n",
    "db = firestore.client()"
   ]
  },
  {
   "cell_type": "markdown",
   "metadata": {},
   "source": [
    "# Series"
   ]
  },
  {
   "cell_type": "code",
   "execution_count": 4,
   "metadata": {},
   "outputs": [],
   "source": [
    "coleccion_ref = db.collection('Series')\n",
    "\n",
    "# Ruta del archivo CSV\n",
    "archivo_csv = base_url + 'inPeruImageSeries.csv'"
   ]
  },
  {
   "cell_type": "code",
   "execution_count": 5,
   "metadata": {},
   "outputs": [
    {
     "name": "stderr",
     "output_type": "stream",
     "text": [
      "Procesando filas: 100%|██████████| 5025/5025 [19:41<00:00,  4.25it/s]"
     ]
    },
    {
     "name": "stdout",
     "output_type": "stream",
     "text": [
      "Subida de datos completada\n"
     ]
    },
    {
     "name": "stderr",
     "output_type": "stream",
     "text": [
      "\n"
     ]
    }
   ],
   "source": [
    "with open(archivo_csv, mode='r', encoding='utf-8') as csv_file:\n",
    "    csv_reader = csv.DictReader(csv_file)\n",
    "    total_rows = sum(1 for row in csv_reader)\n",
    "\n",
    "with open(archivo_csv, mode='r', encoding='utf-8') as csv_file:\n",
    "    csv_reader = csv.DictReader(csv_file)\n",
    "\n",
    "    with tqdm(total=total_rows, desc=\"Procesando filas\") as pbar:\n",
    "        for row in csv_reader:\n",
    "            # Convierte las cadenas entre corchetes a listas (usando eval)\n",
    "            row['genres'] = eval(row['genres'])\n",
    "            row['plataformas'] = eval(row['plataformas'])\n",
    "\n",
    "\n",
    "            # Utiliza el valor de 'tconst' como clave del documento\n",
    "            tconst = row['tconst']\n",
    "\n",
    "            # Elimina 'tconst' del diccionario para evitar duplicación\n",
    "            del row['tconst']\n",
    "\n",
    "            if \"imagen\" in row:\n",
    "                if row['imagen'] == \"\":\n",
    "                    del row['imagen']\n",
    "\n",
    "            # Agrega los datos a Firestore con 'tconst' como clave del documento\n",
    "            coleccion_ref.document(tconst).set(row)\n",
    "\n",
    "            # Actualiza la barra de progreso\n",
    "            pbar.update(1)\n",
    "\n",
    "print(\"Subida de datos completada\")\n"
   ]
  },
  {
   "cell_type": "markdown",
   "metadata": {},
   "source": [
    "# Movies"
   ]
  },
  {
   "cell_type": "code",
   "execution_count": 7,
   "metadata": {},
   "outputs": [],
   "source": [
    "coleccion_ref = db.collection('Movies')\n",
    "\n",
    "# Ruta del archivo CSV\n",
    "archivo_csv = base_url + 'inPeruImage.csv'"
   ]
  },
  {
   "cell_type": "code",
   "execution_count": 8,
   "metadata": {},
   "outputs": [
    {
     "name": "stderr",
     "output_type": "stream",
     "text": [
      "Procesando filas: 100%|██████████| 469/469 [02:11<00:00,  3.57it/s]"
     ]
    },
    {
     "name": "stdout",
     "output_type": "stream",
     "text": [
      "Subida de datos completada\n"
     ]
    },
    {
     "name": "stderr",
     "output_type": "stream",
     "text": [
      "\n"
     ]
    }
   ],
   "source": [
    "with open(archivo_csv, mode='r', encoding='utf-8') as csv_file:\n",
    "    csv_reader = csv.DictReader(csv_file)\n",
    "    total_rows = sum(1 for row in csv_reader)\n",
    "\n",
    "with open(archivo_csv, mode='r', encoding='utf-8') as csv_file:\n",
    "    csv_reader = csv.DictReader(csv_file)\n",
    "\n",
    "    with tqdm(total=total_rows, desc=\"Procesando filas\") as pbar:\n",
    "        for row in csv_reader:\n",
    "            # Convierte las cadenas entre corchetes a listas (usando eval)\n",
    "            row['genres'] = eval(row['genres'])\n",
    "            row['plataformas'] = eval(row['plataformas'])\n",
    "\n",
    "\n",
    "            # Utiliza el valor de 'tconst' como clave del documento\n",
    "            tconst = row['tconst']\n",
    "\n",
    "            # Elimina 'tconst' del diccionario para evitar duplicación\n",
    "            del row['tconst']\n",
    "\n",
    "            if \"imagen\" in row:\n",
    "                if row['imagen'] == \"\":\n",
    "                    del row['imagen']\n",
    "\n",
    "            # Agrega los datos a Firestore con 'tconst' como clave del documento\n",
    "            coleccion_ref.document(tconst).set(row)\n",
    "\n",
    "            # Actualiza la barra de progreso\n",
    "            pbar.update(1)\n",
    "\n",
    "print(\"Subida de datos completada\")\n"
   ]
  }
 ],
 "metadata": {
  "kernelspec": {
   "display_name": "Python 3",
   "language": "python",
   "name": "python3"
  },
  "language_info": {
   "codemirror_mode": {
    "name": "ipython",
    "version": 3
   },
   "file_extension": ".py",
   "mimetype": "text/x-python",
   "name": "python",
   "nbconvert_exporter": "python",
   "pygments_lexer": "ipython3",
   "version": "3.11.2"
  }
 },
 "nbformat": 4,
 "nbformat_minor": 2
}
